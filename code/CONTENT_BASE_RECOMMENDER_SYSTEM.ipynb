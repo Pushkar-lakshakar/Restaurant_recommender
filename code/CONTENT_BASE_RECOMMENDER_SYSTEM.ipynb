{
 "cells": [
  {
   "cell_type": "code",
   "execution_count": 123,
   "id": "8a17d331",
   "metadata": {},
   "outputs": [],
   "source": [
    "# Import Libraries\n",
    "import pandas as pd\n",
    "import numpy as np\n",
    "from sklearn.feature_extraction.text import TfidfVectorizer\n",
    "from sklearn.metrics.pairwise import linear_kernel\n",
    "import warnings\n",
    "\n",
    "warnings.filterwarnings('ignore')"
   ]
  },
  {
   "cell_type": "code",
   "execution_count": 124,
   "id": "4fcfc419",
   "metadata": {},
   "outputs": [
    {
     "name": "stdout",
     "output_type": "stream",
     "text": [
      "Data Loaded. Shape: (23565, 15)\n"
     ]
    }
   ],
   "source": [
    "# Load Preprocessed Data\n",
    "zomato_df = pd.read_csv(\"restaurant1_cleaned.csv\")\n",
    "print(\"Data Loaded. Shape:\", zomato_df.shape)"
   ]
  },
  {
   "cell_type": "code",
   "execution_count": 125,
   "id": "407aea50",
   "metadata": {},
   "outputs": [],
   "source": [
    "# Fill NaNs in 'dish_liked' for safety\n",
    "zomato_df['dish_liked'].fillna('', inplace=True)"
   ]
  },
  {
   "cell_type": "code",
   "execution_count": 126,
   "id": "343376c9",
   "metadata": {},
   "outputs": [],
   "source": [
    "# Safety check in case of missing values\n",
    "zomato_df['combined_features'].fillna('', inplace=True)"
   ]
  },
  {
   "cell_type": "code",
   "execution_count": 127,
   "id": "9903fb0e",
   "metadata": {},
   "outputs": [],
   "source": [
    "# Create TF-IDF Matrix\n",
    "tfidf = TfidfVectorizer(stop_words='english', ngram_range=(1,2))\n",
    "tfidf_matrix = tfidf.fit_transform(zomato_df['combined_features'])  # should now work"
   ]
  },
  {
   "cell_type": "code",
   "execution_count": 128,
   "id": "488ef19f",
   "metadata": {},
   "outputs": [],
   "source": [
    "# Calculate Cosine Similarity\n",
    "cosine_sim = linear_kernel(tfidf_matrix, tfidf_matrix)"
   ]
  },
  {
   "cell_type": "code",
   "execution_count": 129,
   "id": "764e8974",
   "metadata": {},
   "outputs": [],
   "source": [
    "# Create Index Mapping\n",
    "indices = pd.Series(zomato_df.index, index=zomato_df['name'].str.lower()).drop_duplicates()"
   ]
  },
  {
   "cell_type": "code",
   "execution_count": 132,
   "id": "6cc9b7e8",
   "metadata": {},
   "outputs": [],
   "source": [
    "# Recommendation Function\n",
    "def recommend(name, preferred_price=None, min_rating=None, cosine_sim=cosine_sim):\n",
    "    name = name.lower()\n",
    "    if name not in indices:\n",
    "        return \"Restaurant not found.\"\n",
    "\n",
    "    idx = indices[name]\n",
    "    sim_scores = list(enumerate(cosine_sim[idx].tolist()))\n",
    "    sim_scores = sorted(sim_scores, key=lambda x: x[1], reverse=True)\n",
    "    sim_scores = sim_scores[1:]  # Exclude the restaurant itself\n",
    "\n",
    "    restaurant_indices = [i[0] for i in sim_scores]\n",
    "    recommendations = zomato_df.iloc[restaurant_indices].copy()\n",
    "\n",
    "    if preferred_price:\n",
    "        recommendations = recommendations[recommendations['price_range'] == preferred_price]\n",
    "    if min_rating:\n",
    "        recommendations = recommendations[recommendations['rate'] >= min_rating]\n",
    "\n",
    "    # Top 10 results\n",
    "    recommendations = recommendations.head(10)\n",
    "\n",
    "    # Formatting\n",
    "    recommendations = recommendations[['name', 'cuisines', 'rate', 'cost']]\n",
    "    recommendations.reset_index(drop=True, inplace=True)\n",
    "    recommendations.index += 1\n",
    "    recommendations['rate'] = recommendations['rate'].round(1)\n",
    "    recommendations['cost'] = recommendations['cost'].astype(int).astype(str) + \" ₹\"\n",
    "    recommendations.columns = ['Restaurant Name', 'Cuisines', 'Rating (★)', 'Approx Cost']\n",
    "\n",
    "    return recommendations\n",
    "\n"
   ]
  },
  {
   "cell_type": "code",
   "execution_count": 133,
   "id": "e5dd73c1",
   "metadata": {},
   "outputs": [
    {
     "data": {
      "text/html": [
       "<div>\n",
       "<style scoped>\n",
       "    .dataframe tbody tr th:only-of-type {\n",
       "        vertical-align: middle;\n",
       "    }\n",
       "\n",
       "    .dataframe tbody tr th {\n",
       "        vertical-align: top;\n",
       "    }\n",
       "\n",
       "    .dataframe thead th {\n",
       "        text-align: right;\n",
       "    }\n",
       "</style>\n",
       "<table border=\"1\" class=\"dataframe\">\n",
       "  <thead>\n",
       "    <tr style=\"text-align: right;\">\n",
       "      <th></th>\n",
       "      <th>Restaurant Name</th>\n",
       "      <th>Cuisines</th>\n",
       "      <th>Rating (★)</th>\n",
       "      <th>Approx Cost</th>\n",
       "    </tr>\n",
       "  </thead>\n",
       "  <tbody>\n",
       "    <tr>\n",
       "      <th>1</th>\n",
       "      <td>Spice Elephant</td>\n",
       "      <td>Chinese, North Indian, Thai</td>\n",
       "      <td>4.1</td>\n",
       "      <td>800 ₹</td>\n",
       "    </tr>\n",
       "    <tr>\n",
       "      <th>2</th>\n",
       "      <td>Penthouse Café</td>\n",
       "      <td>Cafe, Italian, Continental</td>\n",
       "      <td>4.0</td>\n",
       "      <td>700 ₹</td>\n",
       "    </tr>\n",
       "    <tr>\n",
       "      <th>3</th>\n",
       "      <td>Smacznego</td>\n",
       "      <td>Cafe, Mexican, Italian, Momos, Beverages</td>\n",
       "      <td>4.2</td>\n",
       "      <td>550 ₹</td>\n",
       "    </tr>\n",
       "    <tr>\n",
       "      <th>4</th>\n",
       "      <td>Onesta</td>\n",
       "      <td>Pizza, Cafe, Italian</td>\n",
       "      <td>4.6</td>\n",
       "      <td>600 ₹</td>\n",
       "    </tr>\n",
       "    <tr>\n",
       "      <th>5</th>\n",
       "      <td>Café Shuffle</td>\n",
       "      <td>Cafe, Italian, Continental</td>\n",
       "      <td>4.2</td>\n",
       "      <td>600 ₹</td>\n",
       "    </tr>\n",
       "  </tbody>\n",
       "</table>\n",
       "</div>"
      ],
      "text/plain": [
       "  Restaurant Name                                  Cuisines  Rating (★)  \\\n",
       "1  Spice Elephant               Chinese, North Indian, Thai         4.1   \n",
       "2  Penthouse Café                Cafe, Italian, Continental         4.0   \n",
       "3       Smacznego  Cafe, Mexican, Italian, Momos, Beverages         4.2   \n",
       "4          Onesta                      Pizza, Cafe, Italian         4.6   \n",
       "5    Café Shuffle                Cafe, Italian, Continental         4.2   \n",
       "\n",
       "  Approx Cost  \n",
       "1       800 ₹  \n",
       "2       700 ₹  \n",
       "3       550 ₹  \n",
       "4       600 ₹  \n",
       "5       600 ₹  "
      ]
     },
     "metadata": {},
     "output_type": "display_data"
    }
   ],
   "source": [
    "# Example Usage\n",
    "from IPython.display import display\n",
    "display(recommend('Jalsa', preferred_price='Moderate', min_rating=4.0))"
   ]
  }
 ],
 "metadata": {
  "kernelspec": {
   "display_name": "Python 3",
   "language": "python",
   "name": "python3"
  },
  "language_info": {
   "codemirror_mode": {
    "name": "ipython",
    "version": 3
   },
   "file_extension": ".py",
   "mimetype": "text/x-python",
   "name": "python",
   "nbconvert_exporter": "python",
   "pygments_lexer": "ipython3",
   "version": "3.11.4"
  }
 },
 "nbformat": 4,
 "nbformat_minor": 5
}
